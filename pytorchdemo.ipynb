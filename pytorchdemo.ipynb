{
  "nbformat": 4,
  "nbformat_minor": 0,
  "metadata": {
    "colab": {
      "provenance": [],
      "authorship_tag": "ABX9TyOp78ccm/RGXhDEoIcJKUeg",
      "include_colab_link": true
    },
    "kernelspec": {
      "name": "python3",
      "display_name": "Python 3"
    },
    "language_info": {
      "name": "python"
    }
  },
  "cells": [
    {
      "cell_type": "markdown",
      "metadata": {
        "id": "view-in-github",
        "colab_type": "text"
      },
      "source": [
        "<a href=\"https://colab.research.google.com/github/Surya-0804/CodingNinjas-Problem/blob/main/pytorchdemo.ipynb\" target=\"_parent\"><img src=\"https://colab.research.google.com/assets/colab-badge.svg\" alt=\"Open In Colab\"/></a>"
      ]
    },
    {
      "cell_type": "code",
      "execution_count": null,
      "metadata": {
        "id": "6L1ma6wVHSu2"
      },
      "outputs": [],
      "source": [
        "import torch\n",
        "import numpy as np\n"
      ]
    },
    {
      "cell_type": "code",
      "source": [
        "def defineMatrix(n,m):\n",
        "    return np.random.rand(n,m)\n",
        "def matrixMultiplication(A,B):\n",
        "    n=len(A)\n",
        "    m=len(A[0])\n",
        "    o=len(B)\n",
        "    p=len(B[0])\n",
        "    if n!=p:\n",
        "        return false\n",
        "    c=[ [0 for _ in range(o)] for _ in range(n)]\n",
        "    for i in range(n):\n",
        "        for j in range(m):\n",
        "            c[i][j]=0\n",
        "            for k in range(o):\n",
        "                c[i][j]+=A[i][k]*B[k][j]\n",
        "    print(c)\n",
        "a=[[1,2],[3,4]]\n",
        "b=[[2,3],[4,5]]\n",
        "matrixMultiplication(a,b)"
      ],
      "metadata": {
        "colab": {
          "base_uri": "https://localhost:8080/"
        },
        "id": "OaeVS7g7JH7p",
        "outputId": "68a45830-ac21-44a3-8919-741defdd1711"
      },
      "execution_count": null,
      "outputs": [
        {
          "output_type": "stream",
          "name": "stdout",
          "text": [
            "[[10, 13], [22, 29]]\n"
          ]
        }
      ]
    },
    {
      "cell_type": "code",
      "source": [
        "a=[[1,2],[3,4]]\n",
        "b=[[2,3],[4,5]]\n",
        "get_ipython().run_line_magic('time', 'C=matrixMultiplication(a,b)')"
      ],
      "metadata": {
        "colab": {
          "base_uri": "https://localhost:8080/"
        },
        "id": "lculCXJ7JLIA",
        "outputId": "d3bbbdf7-d5e3-4f7c-b409-ea5058a906a7"
      },
      "execution_count": null,
      "outputs": [
        {
          "output_type": "stream",
          "name": "stdout",
          "text": [
            "[[10, 13], [22, 29]]\n",
            "CPU times: user 584 µs, sys: 0 ns, total: 584 µs\n",
            "Wall time: 510 µs\n"
          ]
        }
      ]
    },
    {
      "cell_type": "code",
      "source": [
        "A=torch.rand(100,100)\n",
        "B=torch.rand(100,100)\n",
        "get_ipython().run_line_magic('time', 'C = torch.matmul(A, B)')"
      ],
      "metadata": {
        "colab": {
          "base_uri": "https://localhost:8080/"
        },
        "id": "nFTaGM9oJN4A",
        "outputId": "7558c617-65c3-4b1d-be5f-d716619a291e"
      },
      "execution_count": null,
      "outputs": [
        {
          "output_type": "stream",
          "name": "stdout",
          "text": [
            "CPU times: user 210 µs, sys: 0 ns, total: 210 µs\n",
            "Wall time: 218 µs\n"
          ]
        }
      ]
    },
    {
      "cell_type": "code",
      "source": [
        "A=torch.rand(100,100)\n",
        "B=torch.rand(100,100)\n",
        "get_ipython().run_line_magic('time', 'C = torch.matmul(A, B)')"
      ],
      "metadata": {
        "colab": {
          "base_uri": "https://localhost:8080/"
        },
        "id": "ZUh5PXCmJRpJ",
        "outputId": "2940eaa6-9a80-4a17-8d1f-5d33b1753fc1"
      },
      "execution_count": null,
      "outputs": [
        {
          "output_type": "stream",
          "name": "stdout",
          "text": [
            "CPU times: user 211 µs, sys: 39 µs, total: 250 µs\n",
            "Wall time: 259 µs\n"
          ]
        }
      ]
    },
    {
      "cell_type": "code",
      "source": [
        "A=torch.rand(100,100)\n",
        "B=torch.rand(100,100)\n",
        "get_ipython().run_line_magic('time', 'C = torch.matmul(A, B)')"
      ],
      "metadata": {
        "colab": {
          "base_uri": "https://localhost:8080/"
        },
        "id": "gjLsrC5gJUeB",
        "outputId": "612e1ee9-6676-497d-919f-792360a1399b"
      },
      "execution_count": null,
      "outputs": [
        {
          "output_type": "stream",
          "name": "stdout",
          "text": [
            "CPU times: user 153 µs, sys: 0 ns, total: 153 µs\n",
            "Wall time: 156 µs\n"
          ]
        }
      ]
    },
    {
      "cell_type": "code",
      "source": [
        "A=np.random.rand(3,4)\n",
        "t=torch.tensor(A)\n",
        "t\n"
      ],
      "metadata": {
        "colab": {
          "base_uri": "https://localhost:8080/"
        },
        "id": "6grBByCDJXpI",
        "outputId": "70f23e6c-c230-40c6-e5e0-7dd37c7e7577"
      },
      "execution_count": null,
      "outputs": [
        {
          "output_type": "execute_result",
          "data": {
            "text/plain": [
              "tensor([[0.0517, 0.6362, 0.2485, 0.4455],\n",
              "        [0.3092, 0.9678, 0.7687, 0.7545],\n",
              "        [0.7439, 0.6929, 0.8119, 0.4928]], dtype=torch.float64)"
            ]
          },
          "metadata": {},
          "execution_count": 14
        }
      ]
    },
    {
      "cell_type": "code",
      "source": [
        "torch.randn(2,9)\n"
      ],
      "metadata": {
        "colab": {
          "base_uri": "https://localhost:8080/"
        },
        "id": "p_u5mV-AJlOF",
        "outputId": "dc54d217-66b5-4259-fcd4-81d0da7d4cc9"
      },
      "execution_count": null,
      "outputs": [
        {
          "output_type": "execute_result",
          "data": {
            "text/plain": [
              "tensor([[ 0.8179, -1.0079, -0.5173,  0.3620,  0.4031, -0.5202, -1.2752,  0.8388,\n",
              "          1.7156],\n",
              "        [ 1.4099, -1.2256, -0.4583,  1.0424,  0.9725, -0.5317,  0.5723, -0.1367,\n",
              "          0.8760]])"
            ]
          },
          "metadata": {},
          "execution_count": 21
        }
      ]
    },
    {
      "cell_type": "code",
      "source": [
        "torch.empty((5,7),dtype=torch.float16)"
      ],
      "metadata": {
        "colab": {
          "base_uri": "https://localhost:8080/"
        },
        "id": "Mq8t4HaVJmk6",
        "outputId": "d1b05e77-4d11-44e2-c29b-5bec2833b062"
      },
      "execution_count": null,
      "outputs": [
        {
          "output_type": "execute_result",
          "data": {
            "text/plain": [
              "tensor([[-1.8463e-03,  2.9104e+04,  2.0812e+02,  0.0000e+00,  1.0529e-03,\n",
              "          2.3904e+04,  2.0812e+02],\n",
              "        [ 0.0000e+00,  3.3264e-03, -2.5918e+00,         nan,  0.0000e+00,\n",
              "          5.9605e-08,  0.0000e+00],\n",
              "        [ 0.0000e+00,  0.0000e+00,  4.7684e-07,  0.0000e+00,  0.0000e+00,\n",
              "          0.0000e+00,  0.0000e+00],\n",
              "        [ 0.0000e+00,  0.0000e+00,  0.0000e+00,  0.0000e+00,  0.0000e+00,\n",
              "          0.0000e+00,  0.0000e+00],\n",
              "        [ 0.0000e+00,  0.0000e+00,  0.0000e+00,  0.0000e+00,  0.0000e+00,\n",
              "          0.0000e+00,  0.0000e+00]], dtype=torch.float16)"
            ]
          },
          "metadata": {},
          "execution_count": 19
        }
      ]
    },
    {
      "cell_type": "code",
      "source": [
        "torch.logspace(-1,3,10)"
      ],
      "metadata": {
        "colab": {
          "base_uri": "https://localhost:8080/"
        },
        "id": "9dbJscKeJ7yO",
        "outputId": "8da3ad08-2b07-4a5a-adb8-ba9acf7d2e08"
      },
      "execution_count": null,
      "outputs": [
        {
          "output_type": "execute_result",
          "data": {
            "text/plain": [
              "tensor([1.0000e-01, 2.7826e-01, 7.7426e-01, 2.1544e+00, 5.9948e+00, 1.6681e+01,\n",
              "        4.6416e+01, 1.2915e+02, 3.5938e+02, 1.0000e+03])"
            ]
          },
          "metadata": {},
          "execution_count": 22
        }
      ]
    },
    {
      "cell_type": "code",
      "source": [
        "torch.linspace(1,10,8)"
      ],
      "metadata": {
        "id": "QPA-NwBLKAiH",
        "outputId": "4904a500-a6b2-4bf0-985b-77b001cab064",
        "colab": {
          "base_uri": "https://localhost:8080/"
        }
      },
      "execution_count": null,
      "outputs": [
        {
          "output_type": "execute_result",
          "data": {
            "text/plain": [
              "tensor([ 1.0000,  2.2857,  3.5714,  4.8571,  6.1429,  7.4286,  8.7143, 10.0000])"
            ]
          },
          "metadata": {},
          "execution_count": 23
        }
      ]
    }
  ]
}